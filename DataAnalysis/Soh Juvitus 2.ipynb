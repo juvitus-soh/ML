{
 "cells": [
  {
   "cell_type": "code",
   "execution_count": 1,
   "id": "70342258",
   "metadata": {},
   "outputs": [
    {
     "name": "stdout",
     "output_type": "stream",
     "text": [
      "sixth_decile is [40, 40, 41]\n",
      " ninety_percentile [50, 51, 51]\n"
     ]
    }
   ],
   "source": [
    "data = [43, 47, 30, 25, 15, 51, 17, 21, 37, 33, 44, 56, 40, 49, 22,\n",
    "        36, 44, 33, 17, 35, 58, 51, 35, 44, 40, 31, 41, 55, 50, 16]\n",
    "\n",
    "data.sort()\n",
    "arrangeddata = []\n",
    "for i in data:\n",
    "    arrangeddata.append(i)\n",
    "\n",
    "count = 0\n",
    "times = 0\n",
    "sixth = []\n",
    "nine = []\n",
    "for i in arrangeddata:\n",
    "    times += 1\n",
    "    if times == 3:\n",
    "        count += 1\n",
    "        times = 0\n",
    "    if count == 6:\n",
    "        index = arrangeddata.index(i)\n",
    "        for j in range(index - 2, index + 1):\n",
    "            sixth.append(arrangeddata[j])\n",
    "            break\n",
    "    elif count == 9:\n",
    "        index = arrangeddata.index(i)\n",
    "        for j in range(index - 1, index + 2):\n",
    "            nine.append(arrangeddata[j])\n",
    "        break\n",
    "print(f\"sixth_decile is {sixth}\\n ninety_percentile {nine}\")\n"
   ]
  },
  {
   "cell_type": "code",
   "execution_count": null,
   "id": "f02b1204",
   "metadata": {},
   "outputs": [],
   "source": []
  }
 ],
 "metadata": {
  "kernelspec": {
   "display_name": "Python 3 (ipykernel)",
   "language": "python",
   "name": "python3"
  },
  "language_info": {
   "codemirror_mode": {
    "name": "ipython",
    "version": 3
   },
   "file_extension": ".py",
   "mimetype": "text/x-python",
   "name": "python",
   "nbconvert_exporter": "python",
   "pygments_lexer": "ipython3",
   "version": "3.9.8"
  }
 },
 "nbformat": 4,
 "nbformat_minor": 5
}
