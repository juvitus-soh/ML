{
 "cells": [
  {
   "cell_type": "code",
   "execution_count": 1,
   "id": "b2727306",
   "metadata": {},
   "outputs": [
    {
     "name": "stdout",
     "output_type": "stream",
     "text": [
      "range is 44 and size is 5.5\n"
     ]
    },
    {
     "data": {
      "image/png": "[encoded data removed]",
      "text/plain": [
       "<Figure size 432x288 with 1 Axes>"
      ]
     },
     "metadata": {
      "needs_background": "light"
     },
     "output_type": "display_data"
    }
   ],
   "source": [
    "#Soh Juvitus Leong\n",
    "#UBa19E0205\n",
    "\n",
    "import pandas as pd\n",
    "import numpy as np\n",
    "\n",
    "#data = pd.Series(\"/home/leong/Documents/data.csv\")\n",
    "#data.head()\n",
    "#data.value_counts()\n",
    "\n",
    "#df = pd.read_csv (r'/home/leong/Documents/data.csv')\n",
    "#print (df)\n",
    "\n",
    "#data = pd.read_csv('/home/leong/Documents/data.csv')\n",
    "#freq_dis_col1 = data.csv['col1'].value_counts()\n",
    "#freq_dis_col1\n",
    "\n",
    "import pandas\n",
    "import math\n",
    "import matplotlib.pyplot as plt\n",
    "import numpy as np\n",
    "\n",
    "data = [28, 22, 23, 20, 12, 24, 37, 28, 21, 25,\n",
    "        21, 14, 30, 23, 27, 13, 23, 7, 26, 19,\n",
    "        24, 22, 26, 3, 21, 24, 28, 40, 27, 24,\n",
    "        20, 25, 23, 26, 47, 21, 29, 26, 22, 33,\n",
    "        27, 9, 13, 35, 20, 16, 20, 25, 18, 22]\n",
    "\n",
    "classes = 8\n",
    "range_of_data = max(data) - min(data)\n",
    "size_of_class = range_of_data / classes\n",
    "print(f\"range is {range_of_data} and size is {size_of_class}\")\n",
    "# print(max(data), min(data))\n",
    "Class = [3]\n",
    "count = 3\n",
    "while True:\n",
    "    count += size_of_class\n",
    "    Class.append(count)\n",
    "    if count == max(data):\n",
    "        break\n",
    "\n",
    "Class_mid_point = []\n",
    "for item in Class[1:]:\n",
    "    avg = item / 2\n",
    "    Class_mid_point.append(round(avg, 2))\n",
    "\n",
    "frequency = []\n",
    "number = 0\n",
    "for item in Class:\n",
    "    if item != Class[len(Class) - 1]:\n",
    "        for items in range(math.floor(item), round(size_of_class + item)):\n",
    "            for items_ in data:\n",
    "                if items == items_:\n",
    "                    number += 1\n",
    "        frequency.append(number)\n",
    "        number = 0\n",
    "\n",
    "cumulative_frequency = [3]\n",
    "sums = 0\n",
    "for i in Class[1:]:\n",
    "    for j in range(0, Class.index(i) + 1):\n",
    "        sums = Class[0] + Class[j]\n",
    "    cumulative_frequency.append(sums)\n",
    "    sums = 0\n",
    "\n",
    "upper_class_boundary = []\n",
    "for items in Class:\n",
    "    upper_class_boundary.append(items + 0.05)\n",
    "\n",
    "values, base = np.histogram(cumulative_frequency, upper_class_boundary)\n",
    "\n",
    "cum_sum = np.cumsum(values)\n",
    "\n",
    "plt.plot(base[1:], cum_sum, color='red', marker='o', linestyle='-')\n",
    "\n",
    "plt.title('Ogive Graph')\n",
    "plt.xlabel('upper class frequency')\n",
    "plt.ylabel('Cumulative Frequency')\n",
    "plt.show()\n",
    "\n",
    "\n",
    "\n"
   ]
  },
  {
   "cell_type": "code",
   "execution_count": null,
   "id": "f3ad2c03",
   "metadata": {},
   "outputs": [],
   "source": []
  }
 ],
 "metadata": {
  "kernelspec": {
   "display_name": "Python 3 (ipykernel)",
   "language": "python",
   "name": "python3"
  },
  "language_info": {
   "codemirror_mode": {
    "name": "ipython",
    "version": 3
   },
   "file_extension": ".py",
   "mimetype": "text/x-python",
   "name": "python",
   "nbconvert_exporter": "python",
   "pygments_lexer": "ipython3",
   "version": "3.9.8"
  }
 },
 "nbformat": 4,
 "nbformat_minor": 5
}
